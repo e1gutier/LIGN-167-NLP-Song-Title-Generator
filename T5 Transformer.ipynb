{
 "cells": [
  {
   "cell_type": "markdown",
   "id": "2f3e9549",
   "metadata": {},
   "source": [
    "# T5 Transformer Model \n",
    "Uses the Hugging Face pretrained `t5-large` model on our dataset.\n",
    "\n",
    "*credit to this [writeup by Shivanandroy](https://shivanandroy.com/transformers-generating-arxiv-papers-title-from-abstracts/#notebooks)*"
   ]
  },
  {
   "cell_type": "code",
   "execution_count": null,
   "id": "f0444bc2",
   "metadata": {},
   "outputs": [],
   "source": [
    "import pandas as pd\n",
    "import torch\n",
    "import re\n",
    "\n",
    "import logging\n",
    "logging.basicConfig(level=logging.INFO)\n",
    "transformers_logger = logging.getLogger(\"transformers\")\n",
    "transformers_logger.setLevel(logging.WARNING)\n",
    "\n",
    "torch.cuda.get_device_name()"
   ]
  },
  {
   "cell_type": "markdown",
   "id": "8fafdd40",
   "metadata": {},
   "source": [
    "<br>"
   ]
  },
  {
   "cell_type": "markdown",
   "id": "23c404b5",
   "metadata": {},
   "source": [
    "## Clean Data"
   ]
  },
  {
   "cell_type": "code",
   "execution_count": null,
   "id": "a1131aca",
   "metadata": {},
   "outputs": [],
   "source": [
    "<br>df = pd.read_csv('songData.csv')\n",
    "df = df.drop(columns = ['artist', 'link'])\n",
    "df = df[['song','text']]\n",
    "\n",
    "# remove '\\r', '\\n' as well as text within '[]', '()'\n",
    "df['text'] = df['text'].replace(['\\r', '\\n'],'', regex=True)\n",
    "df['text'] = df['text'].apply(lambda str1: \"\".join(re.split(\"\\(|\\)|\\[|\\]\", str1)[::2]))\n",
    "df['song'] = df['song'].replace(['\\r', '\\n'],'', regex=True)\n",
    "\n",
    "df.head(3)"
   ]
  },
  {
   "cell_type": "code",
   "execution_count": null,
   "id": "728f9fea",
   "metadata": {},
   "outputs": [],
   "source": [
    "df = df[['song','text']]\n",
    "df.columns = ['target_text', 'input_text']\n",
    "df = df.dropna()"
   ]
  },
  {
   "cell_type": "code",
   "execution_count": null,
   "id": "ee29b72f",
   "metadata": {},
   "outputs": [],
   "source": [
    "eval_df = df.sample(frac=0.2, random_state=101)\n",
    "train_df = df.drop(eval_df.index)"
   ]
  },
  {
   "cell_type": "code",
   "execution_count": null,
   "id": "3f11d495",
   "metadata": {},
   "outputs": [],
   "source": [
    "# sanity check\n",
    "train_df.shape, eval_df.shape"
   ]
  },
  {
   "cell_type": "markdown",
   "id": "f45f6026",
   "metadata": {},
   "source": [
    "# Training"
   ]
  },
  {
   "cell_type": "code",
   "execution_count": null,
   "id": "70f7f897",
   "metadata": {},
   "outputs": [],
   "source": [
    "import pandas as pd\n",
    "from simpletransformers.t5 import T5Model, T5Args\n",
    "\n",
    "logging.basicConfig(level=logging.INFO)\n",
    "transformers_logger = logging.getLogger(\"transformers\")\n",
    "transformers_logger.setLevel(logging.WARNING)\n",
    "\n",
    "train_df['prefix'] = \"summarize\"\n",
    "eval_df['prefix'] = \"summarize\"\n",
    "\n",
    "\n",
    "# T5 Training parameters\n",
    "model_args = T5Args()\n",
    "model_args.reprocess_input_data = True\n",
    "model_args.overwrite_output_dir = True\n",
    "model_args.max_seq_length = 128\n",
    "model_args.train_batch_size = 16\n",
    "model_args.num_train_epochs = 4\n",
    "model_args.use_multiprocessing = False\n",
    "model_args.best_model_dir = 'outputs/best_model'\n",
    "\n",
    "\n",
    "# Create T5 Model\n",
    "model = T5Model(model_name=\"t5-large\", model_type=\"t5\", args=model_args, use_cuda=True)\n",
    "\n",
    "# Train T5 Model on new task\n",
    "model.train_model(train_df)"
   ]
  },
  {
   "cell_type": "markdown",
   "id": "8f44a636",
   "metadata": {},
   "source": [
    "# Evaluating"
   ]
  },
  {
   "cell_type": "code",
   "execution_count": null,
   "id": "93057008",
   "metadata": {},
   "outputs": [],
   "source": [
    "<br># Evaluate T5 Model on new task\n",
    "results = model.eval_model(eval_df)\n",
    "\n",
    "# Predict with trained T5 model\n",
    "#print(model.predict([\"convert: four\"]))"
   ]
  }
 ],
 "metadata": {
  "kernelspec": {
   "display_name": "Python 3 (ipykernel)",
   "language": "python",
   "name": "python3"
  },
  "language_info": {
   "codemirror_mode": {
    "name": "ipython",
    "version": 3
   },
   "file_extension": ".py",
   "mimetype": "text/x-python",
   "name": "python",
   "nbconvert_exporter": "python",
   "pygments_lexer": "ipython3",
   "version": "3.9.5"
  }
 },
 "nbformat": 4,
 "nbformat_minor": 5
}
