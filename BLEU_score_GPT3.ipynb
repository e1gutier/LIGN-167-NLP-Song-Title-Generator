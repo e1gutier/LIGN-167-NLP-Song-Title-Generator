{
 "cells": [
  {
   "cell_type": "markdown",
   "id": "058418e2",
   "metadata": {},
   "source": [
    "# GPT-3 Implementation\n",
    "*credit to the [OpenAPI Documentation](https://beta.openai.com/docs/api-reference/introduction)*",
    "*credit to the [Jason Brownlee](https://machinelearningmastery.com/calculate-bleu-score-for-text-python/)*"
   ]
  },
  {
   "cell_type": "code",
   "execution_count": 1,
   "id": "3fc72747",
   "metadata": {},
   "outputs": [],
   "source": [
    "import openai\n",
    "import pandas as pd\n",
    "import re"
   ]
  },
  {
   "cell_type": "code",
   "execution_count": 2,
   "id": "7317e6c8",
   "metadata": {},
   "outputs": [],
   "source": [
    "#paste your OpenAI api key in a text file (single line by itself)\n",
    "def load_key(path):\n",
    "    with open(path) as f:\n",
    "        return f.read().strip()"
   ]
  },
  {
   "cell_type": "code",
   "execution_count": 3,
   "id": "6efd695d",
   "metadata": {},
   "outputs": [],
   "source": [
    "openai.api_key = load_key('api_key.txt')"
   ]
  },
  {
   "cell_type": "code",
   "execution_count": 4,
   "id": "3111c275",
   "metadata": {},
   "outputs": [
    {
     "data": {
      "text/html": [
       "<div>\n",
       "<style scoped>\n",
       "    .dataframe tbody tr th:only-of-type {\n",
       "        vertical-align: middle;\n",
       "    }\n",
       "\n",
       "    .dataframe tbody tr th {\n",
       "        vertical-align: top;\n",
       "    }\n",
       "\n",
       "    .dataframe thead th {\n",
       "        text-align: right;\n",
       "    }\n",
       "</style>\n",
       "<table border=\"1\" class=\"dataframe\">\n",
       "  <thead>\n",
       "    <tr style=\"text-align: right;\">\n",
       "      <th></th>\n",
       "      <th>song</th>\n",
       "      <th>text</th>\n",
       "    </tr>\n",
       "  </thead>\n",
       "  <tbody>\n",
       "    <tr>\n",
       "      <th>0</th>\n",
       "      <td>Ahe's My Kind Of Girl</td>\n",
       "      <td>Look at her face, it's a wonderful face  And i...</td>\n",
       "    </tr>\n",
       "    <tr>\n",
       "      <th>1</th>\n",
       "      <td>Andante, Andante</td>\n",
       "      <td>Take it easy with me, please  Touch me gently ...</td>\n",
       "    </tr>\n",
       "    <tr>\n",
       "      <th>2</th>\n",
       "      <td>As Good As New</td>\n",
       "      <td>I'll never know why I had to go  Why I had to ...</td>\n",
       "    </tr>\n",
       "    <tr>\n",
       "      <th>3</th>\n",
       "      <td>Bang</td>\n",
       "      <td>Making somebody happy is a question of give an...</td>\n",
       "    </tr>\n",
       "    <tr>\n",
       "      <th>4</th>\n",
       "      <td>Bang-A-Boomerang</td>\n",
       "      <td>Making somebody happy is a question of give an...</td>\n",
       "    </tr>\n",
       "    <tr>\n",
       "      <th>...</th>\n",
       "      <td>...</td>\n",
       "      <td>...</td>\n",
       "    </tr>\n",
       "    <tr>\n",
       "      <th>57645</th>\n",
       "      <td>Good Old Days</td>\n",
       "      <td>Irie days come on play  Let the angels fly let...</td>\n",
       "    </tr>\n",
       "    <tr>\n",
       "      <th>57646</th>\n",
       "      <td>Hand To Mouth</td>\n",
       "      <td>Power to the workers  More power  Power to the...</td>\n",
       "    </tr>\n",
       "    <tr>\n",
       "      <th>57647</th>\n",
       "      <td>Come With Me</td>\n",
       "      <td>all you need  is something i'll believe  flash...</td>\n",
       "    </tr>\n",
       "    <tr>\n",
       "      <th>57648</th>\n",
       "      <td>Desire</td>\n",
       "      <td>northern star  am i frightened  where can i go...</td>\n",
       "    </tr>\n",
       "    <tr>\n",
       "      <th>57649</th>\n",
       "      <td>Heartsong</td>\n",
       "      <td>come in  make yourself at home  i'm a bit late...</td>\n",
       "    </tr>\n",
       "  </tbody>\n",
       "</table>\n",
       "<p>57650 rows × 2 columns</p>\n",
       "</div>"
      ],
      "text/plain": [
       "                        song  \\\n",
       "0      Ahe's My Kind Of Girl   \n",
       "1           Andante, Andante   \n",
       "2             As Good As New   \n",
       "3                       Bang   \n",
       "4           Bang-A-Boomerang   \n",
       "...                      ...   \n",
       "57645          Good Old Days   \n",
       "57646          Hand To Mouth   \n",
       "57647           Come With Me   \n",
       "57648                 Desire   \n",
       "57649              Heartsong   \n",
       "\n",
       "                                                    text  \n",
       "0      Look at her face, it's a wonderful face  And i...  \n",
       "1      Take it easy with me, please  Touch me gently ...  \n",
       "2      I'll never know why I had to go  Why I had to ...  \n",
       "3      Making somebody happy is a question of give an...  \n",
       "4      Making somebody happy is a question of give an...  \n",
       "...                                                  ...  \n",
       "57645  Irie days come on play  Let the angels fly let...  \n",
       "57646  Power to the workers  More power  Power to the...  \n",
       "57647  all you need  is something i'll believe  flash...  \n",
       "57648  northern star  am i frightened  where can i go...  \n",
       "57649  come in  make yourself at home  i'm a bit late...  \n",
       "\n",
       "[57650 rows x 2 columns]"
      ]
     },
     "execution_count": 4,
     "metadata": {},
     "output_type": "execute_result"
    }
   ],
   "source": [
    "df = pd.read_csv('spotify_millsongdata.csv')\n",
    "df = df.drop(columns = ['artist', 'link'])\n",
    "df = df[['song','text']]\n",
    "\n",
    "# remove '\\r', '\\n' as well as text within '[]', '()'\n",
    "df['text'] = df['text'].replace(['\\r', '\\n'],'', regex=True)\n",
    "df['text'] = df['text'].apply(lambda str1: \"\".join(re.split(\"\\(|\\)|\\[|\\]\", str1)[::2]))\n",
    "df['song'] = df['song'].replace(['\\r', '\\n'],'', regex=True)\n",
    "df"
   ]
  },
  {
   "cell_type": "code",
   "execution_count": 5,
   "id": "847b50b0",
   "metadata": {},
   "outputs": [],
   "source": [
    "#df.loc[45632]\n",
    "#print(df.loc[57649]['text'])"
   ]
  },
  {
   "cell_type": "markdown",
   "id": "c2356f20",
   "metadata": {},
   "source": [
    "# Generating Song Titles"
   ]
  },
  {
   "cell_type": "code",
   "execution_count": 26,
   "id": "c8636b5a",
   "metadata": {},
   "outputs": [
    {
     "name": "stdout",
     "output_type": "stream",
     "text": [
      "Here come the Men In Black   It's the MIB's, uh, here come the MIB's   Here come the Men In Black, Men In Black   They won't let you remember      Nah nah nah.   The good guys dress in black, remember that   Just in case we ever face to face and make contact   The title held by me, MIB      Means what you think you saw, you did not see   So don't blink be what was there is now gone   The black suits with the black Ray Bans on   Walk in shadow, move in silence      Guard against extra-terrestrial violence   But yo we ain't on no government list   We straight don't exist - no names and no fingerprints   Saw somethin' strange, watch your back      'Cause you never quite know where the MIBs is at   Uh, eh      Here come the Men In Black, Men In Black   Galaxy defenders.      Oho oho oho   Here come the Men In Black, Men In Black   They won't let you remember      Aha, aha   Now, From the deepest of the darkest night   On the horizon, bright light enters sight tight   Cameras zoom, on the impending doom      But then like BOOM black suits fill the room up   With the quickness, talk with the witnesses   Hypnotizer, neuralizer   Vivid memories turn to fantasies      Ain't no MIBs, can I please   Do what we say, that's they way we kick it   D'ya know what I mean   I see my noisy cricket get wicked on ya      We're your first, last and only line of defense   Against the worst scum of the universe   So don't fear us, cheer us   If you ever get near us, don't jeer us, we're fearless      MIB's freezin' up all the flack   What's that stand for? Men In Black      The Men In Black   The Men In Black      Let me see ya just bounce it with me   Just bounce with me   Just bounce it with me   Come on, let me see ya just slide with me      Just slide with me   Just slide with me   Come on, let me see ya take a walk with me   Just walk with me      Take a walk with me   Come on, and make your neck work   Now freeze      Ohhhhhhhhoh      Here come the Men In Black, Men In Black   Galaxy defenders. Ohh, Ooohh   Here come the Men In Black, Men In Black   They won't let you remember. Oh nohh      Alright check it   Let me tell you this in closing   I know we might seem imposing   But trust me, if we ever show in your section      Believe me, it's for your own protection   'Cause we see things that you need not see   And we be places that you need not be   So go on with your life      Forget that Roswell crap   Show love to the black suit, cause   That's the Men In...   That's the Men In...      Here come the Men In Black, here they come   Galaxy defenders. Galaxy defenders   Here come the Men In Black, oho, here they come   They won't let you remember. Won't let you remember      Here come the Men In Black, ohh, here they come   Galaxy defenders. Oho oho oho.   Here come the Men In Black   They won't let you remember\n"
     ]
    }
   ],
   "source": [
    "lyrics = input()"
   ]
  },
  {
   "cell_type": "code",
   "execution_count": 27,
   "id": "ceb6f078",
   "metadata": {},
   "outputs": [
    {
     "name": "stdout",
     "output_type": "stream",
     "text": [
      ". Aha, aha\n",
      "\n",
      "\"Here Come the Men In Black: Galaxy Defenders Won't Let You Remember\"\n"
     ]
    }
   ],
   "source": [
    "response = openai.Completion.create(model=\"text-davinci-003\", prompt=\"Generate a short, one line song title for the following lyrics:\"+lyrics, temperature=0.5, max_tokens=500)\n",
    "print(response['choices'][0]['text'])"
   ]
  },
  {
   "cell_type": "code",
   "execution_count": 11,
   "id": "b05c7095",
   "metadata": {},
   "outputs": [
    {
     "name": "stdout",
     "output_type": "stream",
     "text": [
      "1.1640469867513693e-231\n"
     ]
    },
    {
     "name": "stderr",
     "output_type": "stream",
     "text": [
      "/opt/conda/lib/python3.9/site-packages/nltk/translate/bleu_score.py:552: UserWarning: \n",
      "The hypothesis contains 0 counts of 2-gram overlaps.\n",
      "Therefore the BLEU score evaluates to 0, independently of\n",
      "how many N-gram overlaps of lower order it contains.\n",
      "Consider using lower n-gram order or use SmoothingFunction()\n",
      "  warnings.warn(_msg)\n"
     ]
    }
   ],
   "source": [
    "from nltk.translate.bleu_score import sentence_bleu\n",
    "reference = [['Just', 'Feel', ' Better']]\n",
    "candidate = [\"Trying\", \"Anything\", \"That\", \"Just\", \"Feels\", \"Better\"]\n",
    "score = sentence_bleu(reference, candidate)\n",
    "print(score)"
   ]
  },
  {
   "cell_type": "code",
   "execution_count": 14,
   "id": "01dc953a",
   "metadata": {},
   "outputs": [
    {
     "name": "stdout",
     "output_type": "stream",
     "text": [
      "5.791739854583281e-155\n"
     ]
    }
   ],
   "source": [
    "from nltk.translate.bleu_score import sentence_bleu\n",
    "reference = [[\"Right\", \"Here\", \"Right\", \"Now\"]]\n",
    "candidate = [\"Waking\", \"Up\", \"to\", \"Find\", \"Our\", \"Love's\", \"Not\", \"Real\", \"Right\", \"Here,\", \"Right\", \"Now\"]\n",
    "score = sentence_bleu(reference, candidate)\n",
    "print(score)"
   ]
  },
  {
   "cell_type": "code",
   "execution_count": 15,
   "id": "349b9ea2",
   "metadata": {},
   "outputs": [
    {
     "name": "stdout",
     "output_type": "stream",
     "text": [
      "1.1640469867513693e-231\n"
     ]
    }
   ],
   "source": [
    "from nltk.translate.bleu_score import sentence_bleu\n",
    "reference = [[\"Are\", \"You\", \"Ready\", \"For\", \"The\", \"Fallout\"]]\n",
    "candidate = [\"What\", \"the\", \"Hell\", \"Did\", \"You\", \"Expect?\"]\n",
    "score = sentence_bleu(reference, candidate)\n",
    "print(score)"
   ]
  },
  {
   "cell_type": "code",
   "execution_count": 20,
   "id": "176c641b",
   "metadata": {},
   "outputs": [
    {
     "name": "stdout",
     "output_type": "stream",
     "text": [
      "1.2882297539194154e-231\n"
     ]
    }
   ],
   "source": [
    "from nltk.translate.bleu_score import sentence_bleu\n",
    "reference = [[\"Blinded\", \"By\", \"The\", \"Sun\"]]\n",
    "candidate = [\"Blinded\", \"by\", \"the\", \"Sun\", \"A\", \"West\", \"Virginia\", \"Tale\"]\n",
    "score = sentence_bleu(reference, candidate)\n",
    "print(score)"
   ]
  },
  {
   "cell_type": "code",
   "execution_count": 25,
   "id": "cd016f94",
   "metadata": {},
   "outputs": [
    {
     "name": "stdout",
     "output_type": "stream",
     "text": [
      "1.0\n"
     ]
    }
   ],
   "source": [
    "from nltk.translate.bleu_score import sentence_bleu\n",
    "reference = [[\"Volvo\", \"Driving\", \"Soccer\", \"Mom\"]]\n",
    "candidate = [\"Volvo\", \"Driving\", \"Soccer\", \"Mom\"]\n",
    "score = sentence_bleu(reference, candidate)\n",
    "print(score)"
   ]
  },
  {
   "cell_type": "code",
   "execution_count": 29,
   "id": "8220778d",
   "metadata": {},
   "outputs": [
    {
     "name": "stdout",
     "output_type": "stream",
     "text": [
      "5.233427736988301e-155\n"
     ]
    }
   ],
   "source": [
    "from nltk.translate.bleu_score import sentence_bleu\n",
    "reference = [[\"Men\", \"In\", \"Black\"]]\n",
    "candidate = [\"Here\", \"Come\", \"the\", \"Men\", \"In\", \"Black:\", \"Galaxy\", \"Defenders\", \"Won't\", \"Let\", \"You\", \"Remember\"]\n",
    "score = sentence_bleu(reference, candidate)\n",
    "print(score)"
   ]
  }
 ],
 "metadata": {
  "kernelspec": {
   "display_name": "Python 3 (ipykernel)",
   "language": "python",
   "name": "python3"
  },
  "language_info": {
   "codemirror_mode": {
    "name": "ipython",
    "version": 3
   },
   "file_extension": ".py",
   "mimetype": "text/x-python",
   "name": "python",
   "nbconvert_exporter": "python",
   "pygments_lexer": "ipython3",
   "version": "3.9.5"
  }
 },
 "nbformat": 4,
 "nbformat_minor": 5
}
