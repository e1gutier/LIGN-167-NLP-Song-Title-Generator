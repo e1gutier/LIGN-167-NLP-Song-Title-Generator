{
 "cells": [
  {
   "cell_type": "markdown",
   "id": "058418e2",
   "metadata": {},
   "source": [
    "# GPT-3 Implementation\n",
    "*credit to the [OpenAPI Documentation](https://beta.openai.com/docs/api-reference/introduction)*"
   ]
  },
  {
   "cell_type": "code",
   "execution_count": null,
   "id": "1d7028b3",
   "metadata": {},
   "outputs": [],
   "source": [
    "import openai"
   ]
  },
  {
   "cell_type": "code",
   "execution_count": null,
   "id": "315139f4",
   "metadata": {},
   "outputs": [],
   "source": [
    "#paste your OpenAI api key in a text file (single line by itself)\n",
    "def load_key(path):\n",
    "    with open(path) as f:\n",
    "        return f.read().strip()"
   ]
  },
  {
   "cell_type": "code",
   "execution_count": null,
   "id": "f568da1b",
   "metadata": {},
   "outputs": [],
   "source": [
    "openai.api_key = load_key('api_key.txt')"
   ]
  },
  {
   "cell_type": "markdown",
   "id": "b547f40a",
   "metadata": {},
   "source": [
    "<br>"
   ]
  },
  {
   "cell_type": "markdown",
   "id": "96cca802",
   "metadata": {},
   "source": [
    "# Generating Song Titles\n",
    "Paste Your Lyrics:"
   ]
  },
  {
   "cell_type": "code",
   "execution_count": null,
   "id": "27b62e2c",
   "metadata": {},
   "outputs": [],
   "source": [
    "lyrics = input()"
   ]
  },
  {
   "cell_type": "code",
   "execution_count": null,
   "id": "4255a12c",
   "metadata": {},
   "outputs": [],
   "source": [
    "response = openai.Completion.create(model=\"text-davinci-003\", prompt=\"Generate a song title for the following lyrics:\"+lyrics, temperature=0.15, max_tokens=10)\n",
    "print('Song Title: ' + response['choices'][0]['text'])"
   ]
  },
  {
   "cell_type": "markdown",
   "id": "e63ff76c",
   "metadata": {},
   "source": [
    "<br>"
   ]
  },
  {
   "cell_type": "markdown",
   "id": "c2e10af2",
   "metadata": {},
   "source": [
    "## Interesting Extras: Explaining Meaning of Lyrics"
   ]
  },
  {
   "cell_type": "code",
   "execution_count": null,
   "id": "cbbedec6",
   "metadata": {},
   "outputs": [],
   "source": [
    "response = openai.Completion.create(model=\"text-davinci-003\", prompt=\"Summarise the meaning of the following song lyrics:\"+lyrics, temperature=0.25, max_tokens=300)\n",
    "print(\"Meaning: \" + response['choices'][0]['text'])"
   ]
  },
  {
   "cell_type": "markdown",
   "id": "348b506c",
   "metadata": {},
   "source": [
    "#### Song Lyrics to Poem"
   ]
  },
  {
   "cell_type": "code",
   "execution_count": null,
   "id": "81cabf51",
   "metadata": {},
   "outputs": [],
   "source": [
    "response = openai.Completion.create(model=\"text-davinci-003\", prompt=\"Write a short poem based on the following song lyrics:\"+lyrics, temperature=1, max_tokens=300)\n",
    "print(\"Poem: \" + response['choices'][0]['text'])"
   ]
  },
  {
   "cell_type": "markdown",
   "id": "3e391a79",
   "metadata": {},
   "source": [
    "#### Generate Artist Name & Biography"
   ]
  },
  {
   "cell_type": "code",
   "execution_count": null,
   "id": "e76ad195",
   "metadata": {
    "scrolled": true
   },
   "outputs": [],
   "source": [
    "response = openai.Completion.create(model=\"text-davinci-003\", prompt=\"Generate an artist name and short biography for the following lyrics:\"+lyrics, temperature=0.15, max_tokens=60)\n",
    "print(response['choices'][0]['text'])"
   ]
  },
  {
   "cell_type": "code",
   "execution_count": null,
   "id": "8d38fa1c",
   "metadata": {},
   "outputs": [],
   "source": []
  }
 ],
 "metadata": {
  "kernelspec": {
   "display_name": "Python 3 (ipykernel)",
   "language": "python",
   "name": "python3"
  },
  "language_info": {
   "codemirror_mode": {
    "name": "ipython",
    "version": 3
   },
   "file_extension": ".py",
   "mimetype": "text/x-python",
   "name": "python",
   "nbconvert_exporter": "python",
   "pygments_lexer": "ipython3",
   "version": "3.9.5"
  }
 },
 "nbformat": 4,
 "nbformat_minor": 5
}
